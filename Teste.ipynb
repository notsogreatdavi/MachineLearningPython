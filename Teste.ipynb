{
 "cells": [
  {
   "cell_type": "markdown",
   "id": "3fa9fe8e-26ef-4847-89e0-47d368e74f24",
   "metadata": {},
   "source": [
    "# Primeiro Notebok"
   ]
  }
 ],
 "metadata": {
  "kernelspec": {
   "display_name": "Python 3 (ipykernel)",
   "language": "python",
   "name": "python3"
  },
  "language_info": {
   "codemirror_mode": {
    "name": "ipython",
    "version": 3
   },
   "file_extension": ".py",
   "mimetype": "text/x-python",
   "name": "python",
   "nbconvert_exporter": "python",
   "pygments_lexer": "ipython3",
   "version": "3.10.12"
  }
 },
 "nbformat": 4,
 "nbformat_minor": 5
}
