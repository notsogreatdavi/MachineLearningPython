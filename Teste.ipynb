{
 "cells": [
  {
   "cell_type": "markdown",
   "id": "3fa9fe8e-26ef-4847-89e0-47d368e74f24",
   "metadata": {},
   "source": [
    "# Primeiro Notebok"
   ]
  },
  {
   "cell_type": "code",
   "execution_count": 1,
   "id": "183222b2-61a1-4781-998a-477fcfb2ef16",
   "metadata": {},
   "outputs": [
    {
     "name": "stdout",
     "output_type": "stream",
     "text": [
      "Olá mundo\n"
     ]
    }
   ],
   "source": [
    "print (\"Olá mundo\") "
   ]
  },
  {
   "cell_type": "code",
   "execution_count": 3,
   "id": "390e8987-8a24-41a0-9dab-12124f50c468",
   "metadata": {},
   "outputs": [],
   "source": [
    "nome = input('Qual é o seu nome?')"
   ]
  },
  {
   "cell_type": "code",
   "execution_count": 4,
   "id": "3d4b02f7",
   "metadata": {},
   "outputs": [
    {
     "data": {
      "text/plain": [
       "'Davi'"
      ]
     },
     "execution_count": 4,
     "metadata": {},
     "output_type": "execute_result"
    }
   ],
   "source": [
    "nome"
   ]
  }
 ],
 "metadata": {
  "kernelspec": {
   "display_name": "Python 3 (ipykernel)",
   "language": "python",
   "name": "python3"
  },
  "language_info": {
   "codemirror_mode": {
    "name": "ipython",
    "version": 3
   },
   "file_extension": ".py",
   "mimetype": "text/x-python",
   "name": "python",
   "nbconvert_exporter": "python",
   "pygments_lexer": "ipython3",
   "version": "3.10.12"
  }
 },
 "nbformat": 4,
 "nbformat_minor": 5
}
